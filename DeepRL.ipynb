{
  "cells": [
    {
      "cell_type": "markdown",
      "metadata": {
        "id": "view-in-github",
        "colab_type": "text"
      },
      "source": [
        "<a href=\"https://colab.research.google.com/github/DarkPovoGang/DeepRL/blob/main/DeepRL.ipynb\" target=\"_parent\"><img src=\"https://colab.research.google.com/assets/colab-badge.svg\" alt=\"Open In Colab\"/></a>"
      ]
    },
    {
      "cell_type": "code",
      "execution_count": 1,
      "metadata": {
        "colab": {
          "base_uri": "https://localhost:8080/"
        },
        "id": "oI6nYD7FMUN2",
        "outputId": "5fbd6a61-fe4a-4753-c590-c3f5f63b5c2f"
      },
      "outputs": [
        {
          "output_type": "stream",
          "name": "stdout",
          "text": [
            "Requirement already satisfied: ftfy in /usr/local/lib/python3.10/dist-packages (6.1.1)\n",
            "Requirement already satisfied: regex in /usr/local/lib/python3.10/dist-packages (2022.10.31)\n",
            "Requirement already satisfied: tqdm in /usr/local/lib/python3.10/dist-packages (4.65.0)\n",
            "Requirement already satisfied: wcwidth>=0.2.5 in /usr/local/lib/python3.10/dist-packages (from ftfy) (0.2.6)\n",
            "Collecting git+https://github.com/openai/CLIP.git\n",
            "  Cloning https://github.com/openai/CLIP.git to /tmp/pip-req-build-hz7d93e7\n",
            "  Running command git clone --filter=blob:none --quiet https://github.com/openai/CLIP.git /tmp/pip-req-build-hz7d93e7\n",
            "  Resolved https://github.com/openai/CLIP.git to commit a9b1bf5920416aaeaec965c25dd9e8f98c864f16\n",
            "  Preparing metadata (setup.py) ... \u001b[?25l\u001b[?25hdone\n",
            "Requirement already satisfied: ftfy in /usr/local/lib/python3.10/dist-packages (from clip==1.0) (6.1.1)\n",
            "Requirement already satisfied: regex in /usr/local/lib/python3.10/dist-packages (from clip==1.0) (2022.10.31)\n",
            "Requirement already satisfied: tqdm in /usr/local/lib/python3.10/dist-packages (from clip==1.0) (4.65.0)\n",
            "Requirement already satisfied: torch in /usr/local/lib/python3.10/dist-packages (from clip==1.0) (2.0.1+cu118)\n",
            "Requirement already satisfied: torchvision in /usr/local/lib/python3.10/dist-packages (from clip==1.0) (0.15.2+cu118)\n",
            "Requirement already satisfied: wcwidth>=0.2.5 in /usr/local/lib/python3.10/dist-packages (from ftfy->clip==1.0) (0.2.6)\n",
            "Requirement already satisfied: filelock in /usr/local/lib/python3.10/dist-packages (from torch->clip==1.0) (3.12.2)\n",
            "Requirement already satisfied: typing-extensions in /usr/local/lib/python3.10/dist-packages (from torch->clip==1.0) (4.6.3)\n",
            "Requirement already satisfied: sympy in /usr/local/lib/python3.10/dist-packages (from torch->clip==1.0) (1.11.1)\n",
            "Requirement already satisfied: networkx in /usr/local/lib/python3.10/dist-packages (from torch->clip==1.0) (3.1)\n",
            "Requirement already satisfied: jinja2 in /usr/local/lib/python3.10/dist-packages (from torch->clip==1.0) (3.1.2)\n",
            "Requirement already satisfied: triton==2.0.0 in /usr/local/lib/python3.10/dist-packages (from torch->clip==1.0) (2.0.0)\n",
            "Requirement already satisfied: cmake in /usr/local/lib/python3.10/dist-packages (from triton==2.0.0->torch->clip==1.0) (3.25.2)\n",
            "Requirement already satisfied: lit in /usr/local/lib/python3.10/dist-packages (from triton==2.0.0->torch->clip==1.0) (16.0.6)\n",
            "Requirement already satisfied: numpy in /usr/local/lib/python3.10/dist-packages (from torchvision->clip==1.0) (1.22.4)\n",
            "Requirement already satisfied: requests in /usr/local/lib/python3.10/dist-packages (from torchvision->clip==1.0) (2.27.1)\n",
            "Requirement already satisfied: pillow!=8.3.*,>=5.3.0 in /usr/local/lib/python3.10/dist-packages (from torchvision->clip==1.0) (8.4.0)\n",
            "Requirement already satisfied: MarkupSafe>=2.0 in /usr/local/lib/python3.10/dist-packages (from jinja2->torch->clip==1.0) (2.1.3)\n",
            "Requirement already satisfied: urllib3<1.27,>=1.21.1 in /usr/local/lib/python3.10/dist-packages (from requests->torchvision->clip==1.0) (1.26.16)\n",
            "Requirement already satisfied: certifi>=2017.4.17 in /usr/local/lib/python3.10/dist-packages (from requests->torchvision->clip==1.0) (2023.5.7)\n",
            "Requirement already satisfied: charset-normalizer~=2.0.0 in /usr/local/lib/python3.10/dist-packages (from requests->torchvision->clip==1.0) (2.0.12)\n",
            "Requirement already satisfied: idna<4,>=2.5 in /usr/local/lib/python3.10/dist-packages (from requests->torchvision->clip==1.0) (3.4)\n",
            "Requirement already satisfied: mpmath>=0.19 in /usr/local/lib/python3.10/dist-packages (from sympy->torch->clip==1.0) (1.3.0)\n"
          ]
        }
      ],
      "source": [
        "!pip install ftfy regex tqdm\n",
        "!pip install git+https://github.com/openai/CLIP.git"
      ]
    },
    {
      "cell_type": "code",
      "source": [
        "import numpy as np\n",
        "import torch\n",
        "from pkg_resources import packaging\n",
        "import clip\n",
        "device = \"cuda\" if torch.cuda.is_available() else \"cpu\"\n",
        "print(\"Torch version:\", torch.__version__)\n",
        "model, preprocess = clip.load(\"RN50\")\n",
        "model.cuda().eval()\n",
        "input_resolution = model.visual.input_resolution\n",
        "context_length = model.context_length\n",
        "vocab_size = model.vocab_size\n",
        "\n",
        "print(\"Model parameters:\", f\"{np.sum([int(np.prod(p.shape)) for p in model.parameters()]):,}\")\n",
        "print(\"Input resolution:\", input_resolution)\n",
        "print(\"Context length:\", context_length)\n",
        "print(\"Vocab size:\", vocab_size)\n",
        "\n",
        "preprocess"
      ],
      "metadata": {
        "colab": {
          "base_uri": "https://localhost:8080/"
        },
        "id": "SYzz611UOQg4",
        "outputId": "07e66919-78df-4fe2-9867-07635853f501"
      },
      "execution_count": 2,
      "outputs": [
        {
          "output_type": "stream",
          "name": "stdout",
          "text": [
            "Torch version: 2.0.1+cu118\n",
            "Model parameters: 102,007,137\n",
            "Input resolution: 224\n",
            "Context length: 77\n",
            "Vocab size: 49408\n"
          ]
        },
        {
          "output_type": "execute_result",
          "data": {
            "text/plain": [
              "Compose(\n",
              "    Resize(size=224, interpolation=bicubic, max_size=None, antialias=warn)\n",
              "    CenterCrop(size=(224, 224))\n",
              "    <function _convert_image_to_rgb at 0x7f295abf15a0>\n",
              "    ToTensor()\n",
              "    Normalize(mean=(0.48145466, 0.4578275, 0.40821073), std=(0.26862954, 0.26130258, 0.27577711))\n",
              ")"
            ]
          },
          "metadata": {},
          "execution_count": 2
        }
      ]
    },
    {
      "cell_type": "code",
      "source": [
        "import pandas as pd\n",
        "import os\n",
        "import gdown\n",
        "import tarfile\n",
        "from PIL import Image\n",
        "from torchvision import transforms\n",
        "from torch.utils.data import Dataset, DataLoader\n",
        "\n",
        "class RefCOCOg(Dataset):\n",
        "\n",
        "  FILE_ID = '1wyyksgdLwnRMC9pQ-vjJnNUn47nWhyMD'\n",
        "  ARCHIVE_NAME = 'refcocog.tar.gz'\n",
        "  NAME = 'refcocog'\n",
        "  ANNOTATIONS = 'annotations/refs(umd).p'\n",
        "  IMAGES = 'images'\n",
        "  IMAGE_NAME = 'COCO_train2014_{}.jpg'\n",
        "\n",
        "\n",
        "  def __init__(self, data_dir, split, transform=None):\n",
        "      self.data_dir = data_dir\n",
        "      self._check_dataset()\n",
        "      self.split = split\n",
        "      self._filter_annotation(os.path.join(self.data_dir, self.NAME, self.ANNOTATIONS))\n",
        "      self.transform = transform\n",
        "\n",
        "  def _check_dataset(self):\n",
        "      if not os.path.exists(os.path.join(self.data_dir, self.ARCHIVE_NAME)):\n",
        "          if not os.path.exists(self.data_dir):\n",
        "              os.mkdir(self.data_dir)\n",
        "          print('Downloading dataset...')\n",
        "          gdown.download(id=self.FILE_ID)\n",
        "      if not os.path.exists(os.path.join(self.data_dir, self.NAME)):\n",
        "          print('Extracting dataset...')\n",
        "          with tarfile.open(os.path.join(self.data_dir, self.ARCHIVE_NAME), 'r:gz') as tar:\n",
        "              tar.extractall(path=self.data_dir)\n",
        "      else:\n",
        "          print('Dataset already extracted')\n",
        "\n",
        "  def __len__(self):\n",
        "      return len(self.annotation)\n",
        "\n",
        "  def __getitem__(self, idx):\n",
        "      # get line by index\n",
        "      raw = self.annotation.iloc[idx]\n",
        "      # get image\n",
        "      image = self._get_image(raw)\n",
        "      # get sentences\n",
        "      sentences = self._get_sentences(raw)\n",
        "      return image, sentences\n",
        "\n",
        "  def _get_image(self, raw):\n",
        "      # get image_id\n",
        "      image_id = raw['image_id']\n",
        "      # pad image_id to 12 digits\n",
        "      image_id = str(image_id).zfill(12)\n",
        "      # convert image to tensor\n",
        "      image = Image.open(os.path.join(self.data_dir, self.NAME, self.IMAGES, self.IMAGE_NAME.format(image_id)))\n",
        "      return image\n",
        "\n",
        "  def _get_sentences(self, raw):\n",
        "      # get sentences\n",
        "      sentences = raw['sentences']\n",
        "      # get raw sentences\n",
        "      sentences = [sentence['raw'] for sentence in sentences]\n",
        "      return sentences\n",
        "\n",
        "  def _filter_annotation(self, path):\n",
        "      # self.annotation = pd.read_pickle(path)\n",
        "      # #self.annotation = pd.DataFrame([x for x in (self.annotation) if x['split'] == 'val'])\n",
        "      # self.annotation = [x for x in (self.annotation) if x['split'] == 'val']\n",
        "      # self.ANNOTATION_SIZE = len(self.annotation)\n",
        "      self.annotation = pd.read_pickle(path)\n",
        "      self.annotation = pd.DataFrame(self.annotation)\n",
        "      self.annotation = self.annotation[self.annotation['split'] == self.split]"
      ],
      "metadata": {
        "id": "afK1s3XLMl1d"
      },
      "execution_count": 17,
      "outputs": []
    },
    {
      "cell_type": "code",
      "source": [
        "def get_vectors(image, sentences):\n",
        "    image = preprocess(image).unsqueeze(0).to(device)\n",
        "    text = clip.tokenize(sentences).to(device)\n",
        "    with torch.no_grad():\n",
        "      image_features = model.encode_image(image)\n",
        "      text_features = model.encode_text(text)\n",
        "    return image_features, text_features"
      ],
      "metadata": {
        "id": "klKtXEBwQoJO"
      },
      "execution_count": 21,
      "outputs": []
    },
    {
      "cell_type": "code",
      "source": [
        "dataset = RefCOCOg('.', 'val',)\n",
        "for i in range(5):\n",
        "  image, sent = dataset[i]\n",
        "  # TODO: check multiple sentences\n",
        "  image, sent = get_vectors(image, sent)\n",
        "  print(image.shape, sent.shape)\n",
        "  product = np.multiply(image.cpu(), sent.cpu())\n",
        "  out = product / np.linalg.norm(product)\n",
        "  print(out.shape)"
      ],
      "metadata": {
        "id": "dQkhbZucR7eZ",
        "outputId": "ee2b9efa-d362-4394-f0b4-43060e003ac0",
        "colab": {
          "base_uri": "https://localhost:8080/"
        }
      },
      "execution_count": 22,
      "outputs": [
        {
          "output_type": "stream",
          "name": "stdout",
          "text": [
            "Dataset already extracted\n",
            "torch.Size([1, 1024]) torch.Size([2, 1024])\n",
            "torch.Size([2, 1024])\n",
            "torch.Size([1, 1024]) torch.Size([2, 1024])\n",
            "torch.Size([2, 1024])\n",
            "torch.Size([1, 1024]) torch.Size([2, 1024])\n",
            "torch.Size([2, 1024])\n",
            "torch.Size([1, 1024]) torch.Size([1, 1024])\n",
            "torch.Size([1, 1024])\n",
            "torch.Size([1, 1024]) torch.Size([1, 1024])\n",
            "torch.Size([1, 1024])\n"
          ]
        }
      ]
    }
  ],
  "metadata": {
    "language_info": {
      "name": "python"
    },
    "orig_nbformat": 4,
    "colab": {
      "provenance": [],
      "gpuType": "T4",
      "include_colab_link": true
    },
    "kernelspec": {
      "name": "python3",
      "display_name": "Python 3"
    },
    "accelerator": "GPU"
  },
  "nbformat": 4,
  "nbformat_minor": 0
}