{
  "cells": [
    {
      "cell_type": "code",
      "execution_count": 1,
      "metadata": {
        "colab": {
          "base_uri": "https://localhost:8080/"
        },
        "id": "oI6nYD7FMUN2",
        "outputId": "e2801bb8-4a3f-4c96-80ee-3304bd88d735"
      },
      "outputs": [
        {
          "output_type": "stream",
          "name": "stdout",
          "text": [
            "Requirement already satisfied: ftfy in /usr/local/lib/python3.10/dist-packages (6.1.1)\n",
            "Requirement already satisfied: regex in /usr/local/lib/python3.10/dist-packages (2022.10.31)\n",
            "Requirement already satisfied: tqdm in /usr/local/lib/python3.10/dist-packages (4.65.0)\n",
            "Requirement already satisfied: wcwidth>=0.2.5 in /usr/local/lib/python3.10/dist-packages (from ftfy) (0.2.6)\n",
            "Collecting git+https://github.com/openai/CLIP.git\n",
            "  Cloning https://github.com/openai/CLIP.git to /tmp/pip-req-build-feps4jcf\n",
            "  Running command git clone --filter=blob:none --quiet https://github.com/openai/CLIP.git /tmp/pip-req-build-feps4jcf\n",
            "  Resolved https://github.com/openai/CLIP.git to commit a9b1bf5920416aaeaec965c25dd9e8f98c864f16\n",
            "  Preparing metadata (setup.py) ... \u001b[?25l\u001b[?25hdone\n",
            "Requirement already satisfied: ftfy in /usr/local/lib/python3.10/dist-packages (from clip==1.0) (6.1.1)\n",
            "Requirement already satisfied: regex in /usr/local/lib/python3.10/dist-packages (from clip==1.0) (2022.10.31)\n",
            "Requirement already satisfied: tqdm in /usr/local/lib/python3.10/dist-packages (from clip==1.0) (4.65.0)\n",
            "Requirement already satisfied: torch in /usr/local/lib/python3.10/dist-packages (from clip==1.0) (2.0.1+cu118)\n",
            "Requirement already satisfied: torchvision in /usr/local/lib/python3.10/dist-packages (from clip==1.0) (0.15.2+cu118)\n",
            "Requirement already satisfied: wcwidth>=0.2.5 in /usr/local/lib/python3.10/dist-packages (from ftfy->clip==1.0) (0.2.6)\n",
            "Requirement already satisfied: filelock in /usr/local/lib/python3.10/dist-packages (from torch->clip==1.0) (3.12.2)\n",
            "Requirement already satisfied: typing-extensions in /usr/local/lib/python3.10/dist-packages (from torch->clip==1.0) (4.6.3)\n",
            "Requirement already satisfied: sympy in /usr/local/lib/python3.10/dist-packages (from torch->clip==1.0) (1.11.1)\n",
            "Requirement already satisfied: networkx in /usr/local/lib/python3.10/dist-packages (from torch->clip==1.0) (3.1)\n",
            "Requirement already satisfied: jinja2 in /usr/local/lib/python3.10/dist-packages (from torch->clip==1.0) (3.1.2)\n",
            "Requirement already satisfied: triton==2.0.0 in /usr/local/lib/python3.10/dist-packages (from torch->clip==1.0) (2.0.0)\n",
            "Requirement already satisfied: cmake in /usr/local/lib/python3.10/dist-packages (from triton==2.0.0->torch->clip==1.0) (3.25.2)\n",
            "Requirement already satisfied: lit in /usr/local/lib/python3.10/dist-packages (from triton==2.0.0->torch->clip==1.0) (16.0.6)\n",
            "Requirement already satisfied: numpy in /usr/local/lib/python3.10/dist-packages (from torchvision->clip==1.0) (1.22.4)\n",
            "Requirement already satisfied: requests in /usr/local/lib/python3.10/dist-packages (from torchvision->clip==1.0) (2.27.1)\n",
            "Requirement already satisfied: pillow!=8.3.*,>=5.3.0 in /usr/local/lib/python3.10/dist-packages (from torchvision->clip==1.0) (8.4.0)\n",
            "Requirement already satisfied: MarkupSafe>=2.0 in /usr/local/lib/python3.10/dist-packages (from jinja2->torch->clip==1.0) (2.1.3)\n",
            "Requirement already satisfied: urllib3<1.27,>=1.21.1 in /usr/local/lib/python3.10/dist-packages (from requests->torchvision->clip==1.0) (1.26.16)\n",
            "Requirement already satisfied: certifi>=2017.4.17 in /usr/local/lib/python3.10/dist-packages (from requests->torchvision->clip==1.0) (2023.5.7)\n",
            "Requirement already satisfied: charset-normalizer~=2.0.0 in /usr/local/lib/python3.10/dist-packages (from requests->torchvision->clip==1.0) (2.0.12)\n",
            "Requirement already satisfied: idna<4,>=2.5 in /usr/local/lib/python3.10/dist-packages (from requests->torchvision->clip==1.0) (3.4)\n",
            "Requirement already satisfied: mpmath>=0.19 in /usr/local/lib/python3.10/dist-packages (from sympy->torch->clip==1.0) (1.3.0)\n"
          ]
        }
      ],
      "source": [
        "!pip install ftfy regex tqdm\n",
        "!pip install git+https://github.com/openai/CLIP.git"
      ]
    },
    {
      "cell_type": "code",
      "source": [
        "import numpy as np\n",
        "import torch\n",
        "from pkg_resources import packaging\n",
        "import clip\n",
        "device = \"cuda\" if torch.cuda.is_available() else \"cpu\"\n",
        "print(\"Torch version:\", torch.__version__)\n",
        "model, preprocess = clip.load(\"RN50\")\n",
        "model.cuda().eval()\n",
        "input_resolution = model.visual.input_resolution\n",
        "context_length = model.context_length\n",
        "vocab_size = model.vocab_size\n",
        "\n",
        "print(\"Model parameters:\", f\"{np.sum([int(np.prod(p.shape)) for p in model.parameters()]):,}\")\n",
        "print(\"Input resolution:\", input_resolution)\n",
        "print(\"Context length:\", context_length)\n",
        "print(\"Vocab size:\", vocab_size)\n",
        "\n",
        "preprocess"
      ],
      "metadata": {
        "colab": {
          "base_uri": "https://localhost:8080/"
        },
        "id": "SYzz611UOQg4",
        "outputId": "c8bb1fe8-f8c4-4ab4-bd19-35226529131d"
      },
      "execution_count": 2,
      "outputs": [
        {
          "output_type": "stream",
          "name": "stdout",
          "text": [
            "Torch version: 2.0.1+cu118\n",
            "Model parameters: 102,007,137\n",
            "Input resolution: 224\n",
            "Context length: 77\n",
            "Vocab size: 49408\n"
          ]
        },
        {
          "output_type": "execute_result",
          "data": {
            "text/plain": [
              "Compose(\n",
              "    Resize(size=224, interpolation=bicubic, max_size=None, antialias=warn)\n",
              "    CenterCrop(size=(224, 224))\n",
              "    <function _convert_image_to_rgb at 0x7f35eab50ee0>\n",
              "    ToTensor()\n",
              "    Normalize(mean=(0.48145466, 0.4578275, 0.40821073), std=(0.26862954, 0.26130258, 0.27577711))\n",
              ")"
            ]
          },
          "metadata": {},
          "execution_count": 2
        }
      ]
    },
    {
      "cell_type": "code",
      "source": [
        "import pandas as pd\n",
        "import os\n",
        "import gdown\n",
        "import tarfile\n",
        "from PIL import Image\n",
        "from torchvision import transforms\n",
        "from torch.utils.data import Dataset, DataLoader\n",
        "\n",
        "class RefCOCOg(Dataset):\n",
        "\n",
        "  FILE_ID = '1wyyksgdLwnRMC9pQ-vjJnNUn47nWhyMD'\n",
        "  ARCHIVE_NAME = 'refcocog.tar.gz'\n",
        "  NAME = 'refcocog'\n",
        "  ANNOTATIONS = 'annotations/refs(umd).p'\n",
        "  IMAGES = 'images'\n",
        "  IMAGE_NAME = 'COCO_train2014_{}.jpg'\n",
        "\n",
        "\n",
        "  def __init__(self, data_dir, split, transform=None):\n",
        "      self.data_dir = data_dir\n",
        "      self._check_dataset()\n",
        "      self.split = split\n",
        "      self._filter_annotation(os.path.join(self.data_dir, self.NAME, self.ANNOTATIONS))\n",
        "      self.transform = transform\n",
        "\n",
        "  def _check_dataset(self):\n",
        "      if not os.path.exists(os.path.join(self.data_dir, self.ARCHIVE_NAME)):\n",
        "          if not os.path.exists(self.data_dir):\n",
        "              os.mkdir(self.data_dir)\n",
        "          print('Downloading dataset...')\n",
        "          gdown.download(id=self.FILE_ID)\n",
        "      if not os.path.exists(os.path.join(self.data_dir, self.NAME)):\n",
        "          print('Extracting dataset...')\n",
        "          with tarfile.open(os.path.join(self.data_dir, self.ARCHIVE_NAME), 'r:gz') as tar:\n",
        "              tar.extractall(path=self.data_dir)\n",
        "      else:\n",
        "          print('Dataset already extracted')\n",
        "\n",
        "  def __len__(self):\n",
        "      return len(self.annotation)\n",
        "\n",
        "  def __getitem__(self, idx):\n",
        "      # get line by index\n",
        "      raw = self.annotation.iloc[idx]\n",
        "      # get image\n",
        "      image = self._get_image(raw)\n",
        "      # get sentences\n",
        "      sentences = self._get_sentences(raw)\n",
        "\n",
        "      return self._get_vectors(image, sentences)\n",
        "\n",
        "  def _get_image(self, raw):\n",
        "      # get image_id\n",
        "      image_id = raw['image_id']\n",
        "      # pad image_id to 12 digits\n",
        "      image_id = str(image_id).zfill(12)\n",
        "      # convert image to tensor\n",
        "      image = Image.open(os.path.join(self.data_dir, self.NAME, self.IMAGES, self.IMAGE_NAME.format(image_id)))\n",
        "      return image\n",
        "\n",
        "  def _get_sentences(self, raw):\n",
        "      # get sentences\n",
        "      sentences = raw['sentences']\n",
        "      # get raw sentences\n",
        "      sentences = [sentence['raw'] for sentence in sentences]\n",
        "      return sentences\n",
        "\n",
        "  def _filter_annotation(self, path):\n",
        "      # self.annotation = pd.read_pickle(path)\n",
        "      # #self.annotation = pd.DataFrame([x for x in (self.annotation) if x['split'] == 'val'])\n",
        "      # self.annotation = [x for x in (self.annotation) if x['split'] == 'val']\n",
        "      # self.ANNOTATION_SIZE = len(self.annotation)\n",
        "      self.annotation = pd.read_pickle(path)\n",
        "      self.annotation = pd.DataFrame(self.annotation)\n",
        "      self.annotation = self.annotation[self.annotation['split'] == self.split]\n",
        "\n",
        "  def _get_vectors(self, image, sentences):\n",
        "  # TODO: check multiple sentences\n",
        "    image = preprocess(image).unsqueeze(0).to(device)\n",
        "    text = clip.tokenize(sentences).to(device)\n",
        "    with torch.no_grad():\n",
        "      image_features = model.encode_image(image)\n",
        "      text_features = model.encode_text(text)\n",
        "    print(f\"Image shape: {image_features.shape}, Text shape:{text_features.shape}\")\n",
        "    product = np.multiply(image_features.cpu(), text_features.cpu())\n",
        "    out = product / np.linalg.norm(product)\n",
        "    print(f\"Output shape: {out.shape}\")\n",
        "    return out"
      ],
      "metadata": {
        "id": "afK1s3XLMl1d"
      },
      "execution_count": 7,
      "outputs": []
    },
    {
      "cell_type": "code",
      "source": [
        "dataset = RefCOCOg('.', 'val')\n",
        "for i in range(5):\n",
        "  x = dataset[i]\n",
        "  print(x)"
      ],
      "metadata": {
        "colab": {
          "base_uri": "https://localhost:8080/"
        },
        "id": "dQkhbZucR7eZ",
        "outputId": "e745a487-db33-4bdf-a03d-6286b23fa554"
      },
      "execution_count": 8,
      "outputs": [
        {
          "output_type": "stream",
          "name": "stdout",
          "text": [
            "Dataset already extracted\n",
            "Image shape: torch.Size([1, 1024]), Text shape:torch.Size([2, 1024])\n",
            "Output shape: torch.Size([2, 1024])\n",
            "tensor([[ 2.9540e-04,  8.5831e-04,  2.9221e-03,  ..., -2.7275e-04,\n",
            "         -5.6171e-04, -1.9217e-03],\n",
            "        [-4.7755e-04,  1.4048e-03,  2.5578e-03,  ..., -8.1658e-05,\n",
            "         -1.2970e-04, -3.8681e-03]], dtype=torch.float16)\n",
            "Image shape: torch.Size([1, 1024]), Text shape:torch.Size([2, 1024])\n",
            "Output shape: torch.Size([2, 1024])\n",
            "tensor([[-0.0016, -0.0002, -0.0037,  ..., -0.0004, -0.0003, -0.0104],\n",
            "        [-0.0014, -0.0003, -0.0053,  ...,  0.0002, -0.0002,  0.0007]],\n",
            "       dtype=torch.float16)\n",
            "Image shape: torch.Size([1, 1024]), Text shape:torch.Size([2, 1024])\n",
            "Output shape: torch.Size([2, 1024])\n",
            "tensor([[-6.6996e-04,  1.7273e-04,  2.8372e-04,  ..., -2.2161e-04,\n",
            "          8.2541e-04, -2.2030e-03],\n",
            "        [-8.0252e-04, -3.8028e-04, -1.6422e-03,  ...,  1.4365e-05,\n",
            "          2.4033e-03,  4.4322e-04]], dtype=torch.float16)\n",
            "Image shape: torch.Size([1, 1024]), Text shape:torch.Size([1, 1024])\n",
            "Output shape: torch.Size([1, 1024])\n",
            "tensor([[ 0.0014,  0.0013, -0.0022,  ..., -0.0004,  0.0007, -0.0045]],\n",
            "       dtype=torch.float16)\n",
            "Image shape: torch.Size([1, 1024]), Text shape:torch.Size([1, 1024])\n",
            "Output shape: torch.Size([1, 1024])\n",
            "tensor([[-0.0043,  0.0009, -0.0079,  ...,  0.0023, -0.0012,  0.0004]],\n",
            "       dtype=torch.float16)\n"
          ]
        }
      ]
    }
  ],
  "metadata": {
    "language_info": {
      "name": "python"
    },
    "orig_nbformat": 4,
    "colab": {
      "provenance": [],
      "gpuType": "T4"
    },
    "kernelspec": {
      "name": "python3",
      "display_name": "Python 3"
    },
    "accelerator": "GPU"
  },
  "nbformat": 4,
  "nbformat_minor": 0
}